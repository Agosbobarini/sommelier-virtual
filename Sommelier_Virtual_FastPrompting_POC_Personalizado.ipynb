{
 "cells": [
  {
   "cell_type": "markdown",
   "id": "e8d49763",
   "metadata": {},
   "source": [
    "\n",
    "# Sommelier Virtual - POC con Fast Prompting \n",
    "\n",
    "Este notebook es una **Proof of Concept (POC)** para la segunda pre-entrega del curso *IA: Generación de Prompts*.\n",
    "\n",
    "El objetivo es mostrar cómo un **Sommelier Virtual** puede guiar experiencias de cata hogareñas utilizando **Fast Prompting**:\n",
    "- Role prompting\n",
    "- Few-shot prompting\n",
    "- Encadenamiento de prompts\n",
    "- Optimización de consultas\n",
    "\n",
    " Esta versión incluye ejemplos personalizados con vinos argentinos y un menú realista.\n"
   ]
  },
  {
   "cell_type": "code",
   "execution_count": null,
   "id": "8e0287cf",
   "metadata": {},
   "outputs": [],
   "source": [
    "\n",
    "# Librerías necesarias\n",
    "# En este ejemplo usamos 'openai' como si estuviéramos conectados a la API.\n",
    "\n",
    "# import openai\n",
    "# openai.api_key = \"API_KEY\" lo deje comentado porque no estoy consumiendo una API KEY real para no generar consumos. \n"
   ]
  },
  {
   "cell_type": "code",
   "execution_count": null,
   "id": "aaba7e0b",
   "metadata": {},
   "outputs": [],
   "source": [
    "\n",
    "# Datos iniciales de la cata (personalizados)\n",
    "invitados = 8\n",
    "nivel = \"intermedios\"\n",
    "menu = \"asado argentino con carnes rojas y achuras\"\n",
    "\n",
    "print(f\"Cata para {invitados} personas, nivel {nivel}, menú: {menu}\")\n"
   ]
  },
  {
   "cell_type": "code",
   "execution_count": null,
   "id": "29b16c41",
   "metadata": {},
   "outputs": [],
   "source": [
    "\n",
    "# Prompt 1: recomendación de vinos\n",
    "prompt_recomendacion = f\"\"\"\n",
    "Actúa como un sommelier experto en vinos argentinos.\n",
    "Tengo una cata para {invitados} personas, {nivel}, con un menú de {menu}.\n",
    "Sugiere 3 vinos tintos argentinos reales, con breve descripción de notas de cata y rango de precio entre $5000 y $9000 ARS.\n",
    "Incluye nombre de bodega y etiqueta si es posible.\n",
    "\"\"\"\n",
    "\n",
    "# Prompt 2: guión de cata encadenado\n",
    "prompt_guion = f\"\"\"\n",
    "A partir de la recomendación previa, genera un guión breve de cata que incluya:\n",
    "- Una bienvenida cálida para {nivel}\n",
    "- Descripción sensorial de cada vino\n",
    "- Preguntas disparadoras para los invitados\n",
    "- Una curiosidad sobre la bodega o región de cada vino\n",
    "- Una sugerencia musical para acompañar la cata\n",
    "\"\"\"\n",
    "\n",
    "# Prompt 3: visualización (texto → imagen)\n",
    "prompt_imagen = \"\"\"\n",
    "Ilustra un set de tres copas de vino tinto junto a una tabla de quesos y fiambres,\n",
    "con notas sensoriales flotando (frutas rojas, especias, humo de asado),\n",
    "en estilo ilustración cálida, tonos borgoña profundo (#6B0F1A) y terracota suave (#C26A4D).\n",
    "\"\"\"\n",
    "\n",
    "print(\"PROMPT RECOMENDACION:\\n\", prompt_recomendacion)\n",
    "print(\"\\nPROMPT GUION:\\n\", prompt_guion)\n",
    "print(\"\\nPROMPT IMAGEN:\\n\", prompt_imagen)\n"
   ]
  },
  {
   "cell_type": "code",
   "execution_count": null,
   "id": "db524022",
   "metadata": {},
   "outputs": [],
   "source": [
    "\n",
    "# Simulación de respuestas de la IA (personalizadas)\n",
    "\n",
    "print(\"Respuesta simulada - Recomendación de vinos:\")\n",
    "print(\"1. **Altos Las Hormigas Malbec 2022** - frutas rojas frescas, taninos suaves, ideal con asado criollo.\")\n",
    "print(\"2. **Luigi Bosca Cabernet Sauvignon 2021** - notas de especias y pimienta, gran estructura para cortes de carne.\")\n",
    "print(\"3. **Nieto Senetiner Bonarda 2020** - jugoso, con toques de ciruela madura y especias dulces, versátil para achuras.\")\n",
    "\n",
    "print(\"\\nRespuesta simulada - Guión de cata:\")\n",
    "print(\"\"\"Bienvenidos a esta experiencia de cata pensada para quienes ya tienen cierto recorrido en el mundo del vino.\n",
    "Hoy recorreremos tres etiquetas representativas de la identidad argentina.\n",
    "Para empezar, les invito a observar el color de cada vino, luego lo llevaremos a nariz buscando frutas rojas,\n",
    "especias y notas de madera. En boca compararemos estructura, acidez y final.\n",
    "Preguntas disparadoras: ¿qué diferencia sienten entre el Malbec y la Bonarda? ¿Cuál acompañaría mejor una tira de asado?\n",
    "Curiosidad: la Bonarda fue durante años la cepa más plantada en Argentina, antes de que el Malbec tomara protagonismo.\n",
    "Sugerencia musical: Escuchar folklore argentino (Mercedes Sosa, Soledad) para ambientar la experiencia.\"\"\")\n",
    "\n",
    "print(\"\\nImagen generada: Copas de vino junto a tabla de quesos y asado, estilo ilustración cálida en tonos borgoña.\")\n"
   ]
  }
 ],
 "metadata": {
  "language_info": {
   "name": "python"
  }
 },
 "nbformat": 4,
 "nbformat_minor": 5
}
